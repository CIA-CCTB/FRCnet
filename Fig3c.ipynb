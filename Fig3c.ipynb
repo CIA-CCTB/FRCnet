{
 "cells": [
  {
   "cell_type": "markdown",
   "id": "9a8e2680",
   "metadata": {},
   "source": [
    "# Figure 3c\n",
    "\n",
    "## Total loss monitored during network training for training and validation images\n",
    "\n",
    "----\n",
    "\n",
    "Load dependencies:"
   ]
  },
  {
   "cell_type": "code",
   "execution_count": 1,
   "id": "aa253d3e",
   "metadata": {},
   "outputs": [],
   "source": [
    "import tensorflow as tf\n",
    "import os, glob\n",
    "import numpy as np\n",
    "import pandas as pd\n",
    "\n",
    "from tensorboard.backend.event_processing.event_accumulator import EventAccumulator\n",
    "\n",
    "from matplotlib import pyplot as plt\n",
    "from IPython import display"
   ]
  },
  {
   "cell_type": "markdown",
   "id": "abb5fbfd",
   "metadata": {},
   "source": [
    "Configure GPU and limit memory usage:"
   ]
  },
  {
   "cell_type": "code",
   "execution_count": 2,
   "id": "317072df",
   "metadata": {},
   "outputs": [],
   "source": [
    "gpus = tf.config.experimental.list_physical_devices('GPU')\n",
    "if gpus:\n",
    "  try:\n",
    "    for gpu in gpus:\n",
    "      tf.config.experimental.set_memory_growth(gpu, True)\n",
    "  except RuntimeError as e:\n",
    "    print(e)"
   ]
  },
  {
   "cell_type": "markdown",
   "id": "ac8b6264",
   "metadata": {},
   "source": [
    "Load Tensorboard event file:"
   ]
  },
  {
   "cell_type": "code",
   "execution_count": 3,
   "id": "b06016c5",
   "metadata": {},
   "outputs": [
    {
     "data": {
      "text/plain": [
       "<tensorboard.backend.event_processing.event_accumulator.EventAccumulator at 0x7f6d8c50ed90>"
      ]
     },
     "execution_count": 3,
     "metadata": {},
     "output_type": "execute_result"
    }
   ],
   "source": [
    "event_acc = EventAccumulator(\"data/\", size_guidance={'tensors': 0})\n",
    "event_acc.Reload()"
   ]
  },
  {
   "cell_type": "markdown",
   "id": "4bb71d77",
   "metadata": {},
   "source": [
    "Extract training logs:"
   ]
  },
  {
   "cell_type": "code",
   "execution_count": 4,
   "id": "5540d3ef",
   "metadata": {},
   "outputs": [],
   "source": [
    "logdata = pd.DataFrame(columns=event_acc.Tags()[\"tensors\"])\n",
    "\n",
    "for tag in event_acc.Tags()[\"tensors\"]:\n",
    "\n",
    "    data = pd.DataFrame([(s, tf.make_ndarray(t)) for w, s, t in event_acc.Tensors(tag)], columns=['epoch', tag], dtype=float)\n",
    "    data2 = data.groupby(by=\"epoch\").mean()\n",
    "    logdata[tag] = data2[tag].ewm(alpha=0.17).mean()\n"
   ]
  },
  {
   "cell_type": "markdown",
   "id": "0483f5ce",
   "metadata": {},
   "source": [
    "Plot total training and validation loss:"
   ]
  },
  {
   "cell_type": "code",
   "execution_count": 5,
   "id": "f5c18938",
   "metadata": {},
   "outputs": [
    {
     "data": {
      "image/png": "[encoded data removed]",
      "text/plain": [
       "<Figure size 252x216 with 1 Axes>"
      ]
     },
     "metadata": {
      "needs_background": "light"
     },
     "output_type": "display_data"
    }
   ],
   "source": [
    "plt.figure(figsize=(3.5, 3.0))\n",
    "\n",
    "train = logdata.total_loss\n",
    "val = logdata.val_total_loss\n",
    "\n",
    "plt.plot(train, label=\"Training\", color=\"black\")\n",
    "plt.plot(val, label=\"Validation\", color=\"tomato\")\n",
    "plt.xlabel(\"Epoch\")\n",
    "plt.ylabel(\"Total Loss\")\n",
    "plt.legend()\n",
    "plt.ylim((0.7,0.8))\n",
    "plt.title(\"Figure 3c\")\n",
    "plt.show()"
   ]
  },
  {
   "cell_type": "code",
   "execution_count": null,
   "id": "8e081d6f",
   "metadata": {},
   "outputs": [],
   "source": []
  }
 ],
 "metadata": {
  "kernelspec": {
   "display_name": "Python 3",
   "language": "python",
   "name": "python3"
  },
  "language_info": {
   "codemirror_mode": {
    "name": "ipython",
    "version": 3
   },
   "file_extension": ".py",
   "mimetype": "text/x-python",
   "name": "python",
   "nbconvert_exporter": "python",
   "pygments_lexer": "ipython3",
   "version": "3.9.5"
  }
 },
 "nbformat": 4,
 "nbformat_minor": 5
}
