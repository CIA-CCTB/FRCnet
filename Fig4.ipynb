{
 "cells": [
  {
   "cell_type": "markdown",
   "id": "a0a865f8",
   "metadata": {},
   "source": [
    "# Figure 4\n",
    "\n",
    "## Evaluation of trained networks\n",
    "\n",
    "To load the training checkpoints, we first define the network architecture again."
   ]
  },
  {
   "cell_type": "markdown",
   "id": "b22238a7",
   "metadata": {},
   "source": [
    "## 1) Configuration"
   ]
  },
  {
   "cell_type": "code",
   "execution_count": 1,
   "id": "e9b3e4a6",
   "metadata": {},
   "outputs": [],
   "source": [
    "import tensorflow as tf\n",
    "import tensorflow_addons as tfa\n",
    "import os\n",
    "import numpy as np\n",
    "\n",
    "from matplotlib import pyplot as plt\n",
    "from IPython import display"
   ]
  },
  {
   "cell_type": "markdown",
   "id": "e9c54b93",
   "metadata": {},
   "source": [
    "Limit GPU memory usage by Tensorflow:"
   ]
  },
  {
   "cell_type": "code",
   "execution_count": 2,
   "id": "942eac04",
   "metadata": {},
   "outputs": [],
   "source": [
    "gpus = tf.config.experimental.list_physical_devices('GPU')\n",
    "if gpus:\n",
    "  try:\n",
    "    for gpu in gpus:\n",
    "      tf.config.experimental.set_memory_growth(gpu, True)\n",
    "  except RuntimeError as e:\n",
    "    print(e)"
   ]
  },
  {
   "cell_type": "markdown",
   "id": "a85fcac0",
   "metadata": {},
   "source": [
    "Global parameters are location of training data and loss function:"
   ]
  },
  {
   "cell_type": "code",
   "execution_count": 3,
   "id": "de21ef6b",
   "metadata": {},
   "outputs": [],
   "source": [
    "PATH = 'data/'\n",
    "LOSS = 'frc+ssim+0.1*l1'"
   ]
  },
  {
   "cell_type": "markdown",
   "id": "775a3533",
   "metadata": {},
   "source": [
    "----\n",
    "\n",
    "## 2) Input data\n",
    "\n",
    "Normalize images to [-1, 1] and mean zero:"
   ]
  },
  {
   "cell_type": "code",
   "execution_count": 4,
   "id": "9a0b865f",
   "metadata": {},
   "outputs": [],
   "source": [
    "def normalize(input_image, real_image):\n",
    "  input_image = input_image-tf.reduce_min(input_image)\n",
    "  real_image = real_image-tf.reduce_min(real_image)\n",
    "  imax = tf.reduce_max(input_image)\n",
    "  rmax = tf.reduce_max(real_image)\n",
    "  input_image = (2.0 * input_image / imax) - 1.0\n",
    "  real_image = (2.0 * real_image / rmax) - 1.0\n",
    "\n",
    "  return input_image, real_image"
   ]
  },
  {
   "cell_type": "markdown",
   "id": "3a5185fe",
   "metadata": {},
   "source": [
    "Load function for images:"
   ]
  },
  {
   "cell_type": "code",
   "execution_count": 5,
   "id": "a7fe4b7a",
   "metadata": {},
   "outputs": [],
   "source": [
    "@tf.autograph.experimental.do_not_convert\n",
    "def load_image(image_file):\n",
    "    \n",
    "    input_image = tf.io.read_file(image_file)\n",
    "    input_image = tf.image.decode_png(input_image,dtype=tf.dtypes.uint16)\n",
    "\n",
    "    real_image = tf.io.read_file(tf.strings.regex_replace(image_file, \"sub.*\", \"full.png\"))\n",
    "    real_image = tf.image.decode_png(real_image,dtype=tf.dtypes.uint16)\n",
    "\n",
    "    input_image = tf.cast(input_image, tf.float32)\n",
    "    real_image = tf.cast(real_image, tf.float32)\n",
    "    \n",
    "    im_stack = tf.stack( (input_image, real_image) )\n",
    "    im_stack = tf.image.central_crop(im_stack, 0.8)\n",
    "    im_stack = tf.image.random_crop(im_stack, size=(2, 750, 750, 1))\n",
    "    input_image, real_image = tf.unstack(im_stack, 2)\n",
    "    \n",
    "    input_image, real_image = normalize(input_image, real_image)\n",
    "\n",
    "    f1 = tf.random.uniform(shape=[], dtype=tf.float32)# * tf.constant(np.pi)\n",
    "    \n",
    "    input_image = tfa.image.rotate(input_image, f1 * tf.constant(2.0 * np.pi))\n",
    "    real_image = tfa.image.rotate(real_image, f1 * tf.constant(2.0 * np.pi))\n",
    "\n",
    "    input_image = tf.image.crop_to_bounding_box(input_image, 119, 119, 512, 512)\n",
    "    real_image = tf.image.crop_to_bounding_box(real_image, 119, 119, 512, 512)\n",
    "\n",
    "    input_image, real_image = normalize(input_image, real_image)\n",
    "\n",
    "    return input_image, real_image"
   ]
  },
  {
   "cell_type": "markdown",
   "id": "b65a2a75",
   "metadata": {},
   "source": [
    "Test dataset:"
   ]
  },
  {
   "cell_type": "code",
   "execution_count": 6,
   "id": "2d59916c",
   "metadata": {},
   "outputs": [],
   "source": [
    "test_dataset = tf.data.Dataset.list_files(PATH + '/test/*sub*.png')\n",
    "test_dataset = test_dataset.map(load_image)\n",
    "test_dataset = test_dataset.batch(1)"
   ]
  },
  {
   "cell_type": "markdown",
   "id": "1692ca08",
   "metadata": {},
   "source": [
    "----\n",
    "\n",
    "## 3) Define the model\n",
    "\n",
    "We use the generator of the pix2pix U-Net adapted from https://www.tensorflow.org/tutorials/generative/pix2pix.\n",
    "\n",
    "Downsampling step:"
   ]
  },
  {
   "cell_type": "code",
   "execution_count": 7,
   "id": "b35c2932",
   "metadata": {},
   "outputs": [],
   "source": [
    "def downsample(filters, size, apply_batchnorm=True):\n",
    "\n",
    "  result = tf.keras.Sequential()\n",
    "  result.add(\n",
    "      tf.keras.layers.Conv2D(filters, size, strides=2, padding='same', use_bias=False))\n",
    "\n",
    "  if apply_batchnorm:\n",
    "    result.add(tf.keras.layers.BatchNormalization())\n",
    "\n",
    "  result.add(tf.keras.layers.LeakyReLU())\n",
    "\n",
    "  return result"
   ]
  },
  {
   "cell_type": "markdown",
   "id": "6ff3889e",
   "metadata": {},
   "source": [
    "Upsampling step:"
   ]
  },
  {
   "cell_type": "code",
   "execution_count": 8,
   "id": "c053ece2",
   "metadata": {},
   "outputs": [],
   "source": [
    "def upsample(filters, size, apply_dropout=False):\n",
    "\n",
    "  result = tf.keras.Sequential()\n",
    "  result.add(\n",
    "    tf.keras.layers.Conv2DTranspose(filters, size, strides=2,\n",
    "                                    padding='same',\n",
    "                                    use_bias=False))\n",
    "\n",
    "  result.add(tf.keras.layers.BatchNormalization())\n",
    "\n",
    "  if apply_dropout:\n",
    "      result.add(tf.keras.layers.Dropout(0.5))\n",
    "\n",
    "  result.add(tf.keras.layers.ReLU())\n",
    "\n",
    "  return result"
   ]
  },
  {
   "cell_type": "markdown",
   "id": "da0c981b",
   "metadata": {},
   "source": [
    "U-Net with downsampling, upsampling and skip connections:"
   ]
  },
  {
   "cell_type": "code",
   "execution_count": 9,
   "id": "1377a878",
   "metadata": {},
   "outputs": [],
   "source": [
    "def Generator():\n",
    "  inputs = tf.keras.layers.Input(shape=[512, 512, 1])\n",
    "\n",
    "  down_stack = [\n",
    "    downsample(64, 4, apply_batchnorm=False),  # (batch_size, 128, 128, 64)\n",
    "    downsample(128, 4),  # (batch_size, 64, 64, 128)\n",
    "    downsample(256, 4),  # (batch_size, 32, 32, 256)\n",
    "    downsample(512, 4),  # (batch_size, 16, 16, 512)\n",
    "    downsample(512, 4),  # (batch_size, 8, 8, 512)\n",
    "    downsample(512, 4),  # (batch_size, 4, 4, 512)\n",
    "    downsample(512, 4),  # (batch_size, 2, 2, 512)\n",
    "    downsample(512, 4),  # (batch_size, 1, 1, 512)\n",
    "  ]\n",
    "\n",
    "  up_stack = [\n",
    "    upsample(512, 4, apply_dropout=True),  # (batch_size, 2, 2, 1024)\n",
    "    upsample(512, 4, apply_dropout=True),  # (batch_size, 4, 4, 1024)\n",
    "    upsample(512, 4, apply_dropout=True),  # (batch_size, 8, 8, 1024)\n",
    "    upsample(512, 4),  # (batch_size, 16, 16, 1024)\n",
    "    upsample(256, 4),  # (batch_size, 32, 32, 512)\n",
    "    upsample(128, 4),  # (batch_size, 64, 64, 256)\n",
    "    upsample(64, 4),  # (batch_size, 128, 128, 128)\n",
    "  ]\n",
    "\n",
    "  last = tf.keras.layers.Conv2DTranspose(1, 4,\n",
    "                                         strides=2,\n",
    "                                         padding='same',\n",
    "                                         activation='tanh')  # (batch_size, 256, 256, 3)\n",
    "\n",
    "  x = inputs\n",
    "    \n",
    "  skips = []\n",
    "  for down in down_stack:\n",
    "    x = down(x)\n",
    "    skips.append(x)\n",
    "\n",
    "  skips = reversed(skips[:-1])\n",
    "\n",
    "  for up, skip in zip(up_stack, skips):\n",
    "    x = up(x)\n",
    "    x = tf.keras.layers.Concatenate()([x, skip])\n",
    "\n",
    "  x = last(x)\n",
    "\n",
    "  return tf.keras.Model(inputs=inputs, outputs=x)"
   ]
  },
  {
   "cell_type": "markdown",
   "id": "1a531d37",
   "metadata": {},
   "source": [
    "----\n",
    "\n",
    "## 4) FRC loss\n",
    "\n",
    "Pre-compute kernels for normalization:"
   ]
  },
  {
   "cell_type": "code",
   "execution_count": 10,
   "id": "a22aa7b5",
   "metadata": {},
   "outputs": [],
   "source": [
    "size = 512\n",
    "size_half = 256\n",
    "\n",
    "r = np.zeros([size])\n",
    "r[:size_half] = np.arange(size_half)+1\n",
    "r[size_half:] = np.arange(size_half,0,-1)\n",
    "\n",
    "c=np.zeros([size])\n",
    "c[:size_half] = np.arange(size_half)+1\n",
    "c[size_half:] = np.arange(size_half,0,-1)\n",
    "\n",
    "[R,C] = np.meshgrid(r,c)\n",
    "\n",
    "help_index = np.round(np.sqrt(R**2+C**2))\n",
    "kernel_list = []\n",
    "\n",
    "for i in range(1, size_half+1):\n",
    "    new_matrix = np.zeros(shape=[size,size])\n",
    "    new_matrix[help_index==i]=1\n",
    "    kernel_list.append(new_matrix)\n",
    "\n",
    "kernel_list = tf.constant(kernel_list, dtype=tf.complex64)"
   ]
  },
  {
   "cell_type": "markdown",
   "id": "3374d04d",
   "metadata": {},
   "source": [
    "Calculate the area of the FRC of two images using tensor functions:"
   ]
  },
  {
   "cell_type": "code",
   "execution_count": 11,
   "id": "ff556d5a",
   "metadata": {},
   "outputs": [],
   "source": [
    "@tf.function()\n",
    "def FRC_loss(i1, i2, kernel_list):\n",
    "\n",
    "    i1 = tf.squeeze(i1, axis = 0)\n",
    "    i1 = tf.squeeze(i1, axis = -1)\n",
    "    \n",
    "    i2 = tf.squeeze(i2, axis = 0)\n",
    "    i2 = tf.squeeze(i2, axis = -1)\n",
    "\n",
    "    i1 = tf.cast(i1, dtype = tf.complex64)\n",
    "    i2 = tf.cast(i2, dtype = tf.complex64)\n",
    "    \n",
    "    I1 = tf.signal.fft2d(i1)   \n",
    "    I2 = tf.signal.fft2d(i2)\n",
    "    \n",
    "    A = tf.multiply(I1, tf.math.conj(I2))\n",
    "    B = tf.multiply(I1, tf.math.conj(I1))   \n",
    "    C = tf.multiply(I2, tf.math.conj(I2))\n",
    "\n",
    "    A_val = tf.reduce_mean(tf.multiply(A, kernel_list), axis=(1,2))\n",
    "    B_val = tf.reduce_mean(tf.multiply(B, kernel_list), axis=(1,2))\n",
    "    C_val = tf.reduce_mean(tf.multiply(C, kernel_list), axis=(1,2))\n",
    " \n",
    "    den = tf.sqrt(tf.abs(tf.multiply(B_val,C_val)))\n",
    "    \n",
    "    res = tf.abs(A_val) / den\n",
    "    \n",
    "    return 1.0 - tf.reduce_sum(res) / 256.0"
   ]
  },
  {
   "cell_type": "markdown",
   "id": "814db556",
   "metadata": {},
   "source": [
    "----\n",
    "\n",
    "## 5) Create network model\n",
    "\n",
    "Define the different losses for training and monitoring, and evaluate loss term:"
   ]
  },
  {
   "cell_type": "code",
   "execution_count": 12,
   "id": "d6b76424",
   "metadata": {},
   "outputs": [],
   "source": [
    "def generator_loss(gen_output, target):\n",
    "\n",
    "    ab    = tf.reduce_mean(tf.abs(gen_output+1))\n",
    "    l1    = tf.reduce_mean(tf.abs(gen_output-target))\n",
    "    l2    = tf.reduce_mean(tf.square(gen_output-target))\n",
    "    ssim  = tf.reduce_mean(1-tf.image.ssim_multiscale(gen_output, target, 2))\n",
    "    frc   = FRC_loss(gen_output*0.5+0.5,target*0.5+0.5,kernel_list)\n",
    "    psnr  = tf.squeeze(1/tf.image.psnr(gen_output, target, 2), axis = 0)\n",
    "    tv    = tf.squeeze(tf.image.total_variation(gen_output), axis = 0)\n",
    "\n",
    "    total_loss =  eval(LOSS)\n",
    "        \n",
    "    assert_op = tf.debugging.assert_all_finite(total_loss,'loss')\n",
    "\n",
    "\n",
    "    return total_loss, ab, l1, l2, ssim, frc, psnr, tv"
   ]
  },
  {
   "cell_type": "markdown",
   "id": "4c96d823",
   "metadata": {},
   "source": [
    "Define optimizer:"
   ]
  },
  {
   "cell_type": "code",
   "execution_count": 13,
   "id": "82f69225",
   "metadata": {},
   "outputs": [],
   "source": [
    "generator_optimizer = tf.keras.optimizers.Adam(2e-4, beta_1=0.5)"
   ]
  },
  {
   "cell_type": "markdown",
   "id": "2794d208",
   "metadata": {},
   "source": [
    "Create model instance:"
   ]
  },
  {
   "cell_type": "code",
   "execution_count": 14,
   "id": "ee191d91",
   "metadata": {},
   "outputs": [],
   "source": [
    "generator = Generator()"
   ]
  },
  {
   "cell_type": "markdown",
   "id": "2e88c9dc",
   "metadata": {},
   "source": [
    "----\n",
    "\n",
    "## 6) Load checkpoints and compare predictions\n",
    "\n",
    "Now, we load the different training checkpoints and compare the metrics of the predictions. Results are slightly different each time due to the random sampling from the data, but in all cases the combined loss has the best compromise between all metrics.\n",
    "\n",
    "Initialize array for the results and set checkpoint directory:"
   ]
  },
  {
   "cell_type": "code",
   "execution_count": 15,
   "id": "f62d5c9f",
   "metadata": {},
   "outputs": [],
   "source": [
    "allres = np.zeros((20,8,3));\n",
    "\n",
    "checkpoint = tf.train.Checkpoint(generator_optimizer=generator_optimizer,generator=generator)"
   ]
  },
  {
   "cell_type": "markdown",
   "id": "91fe5fc5",
   "metadata": {},
   "source": [
    "Load trained network for SSIM loss and generate 20 predictions from the test set:"
   ]
  },
  {
   "cell_type": "code",
   "execution_count": 16,
   "id": "1947aace",
   "metadata": {},
   "outputs": [],
   "source": [
    "checkpoint.restore(tf.train.latest_checkpoint('data/checkpoints/ssim'))\n",
    "\n",
    "i=0;\n",
    "\n",
    "while(i<20):\n",
    "    for inp, tar in test_dataset.take(1):\n",
    "        prediction = generator(inp, training=True)\n",
    "        allres[i,:,0] = generator_loss(prediction, tar)\n",
    "        i = i+1"
   ]
  },
  {
   "cell_type": "markdown",
   "id": "98045c8a",
   "metadata": {},
   "source": [
    "Load trained network for FRC loss and generate 20 predictions from the test set:"
   ]
  },
  {
   "cell_type": "code",
   "execution_count": 17,
   "id": "99650188",
   "metadata": {},
   "outputs": [],
   "source": [
    "checkpoint.restore(tf.train.latest_checkpoint('data/checkpoints/frc'))\n",
    "\n",
    "i=0;\n",
    "\n",
    "while(i<20):\n",
    "    for inp, tar in test_dataset.take(1):\n",
    "        prediction = generator(inp, training=True)\n",
    "        allres[i,:,1] = generator_loss(prediction, tar)\n",
    "        i = i+1"
   ]
  },
  {
   "cell_type": "markdown",
   "id": "1f290603",
   "metadata": {},
   "source": [
    "Load trained network for FRC + SSIM loss and generate 20 predictions from the test set:"
   ]
  },
  {
   "cell_type": "code",
   "execution_count": 18,
   "id": "860001b1",
   "metadata": {},
   "outputs": [],
   "source": [
    "checkpoint.restore(tf.train.latest_checkpoint('data/checkpoints/ssim+frc'))\n",
    "\n",
    "i=0;\n",
    "\n",
    "while(i<20):\n",
    "    for inp, tar in test_dataset.take(1):\n",
    "        prediction = generator(inp, training=True)\n",
    "        allres[i,:,2] = generator_loss(prediction, tar)\n",
    "        i = i+1"
   ]
  },
  {
   "cell_type": "markdown",
   "id": "58cc98aa",
   "metadata": {},
   "source": [
    "Plot mean$\\pm$SE of MSE loss for all three loss functions:"
   ]
  },
  {
   "cell_type": "code",
   "execution_count": 19,
   "id": "cb50bb00",
   "metadata": {},
   "outputs": [
    {
     "data": {
      "image/png": "[encoded data removed]",
      "text/plain": [
       "<Figure size 144x216 with 1 Axes>"
      ]
     },
     "metadata": {
      "needs_background": "light"
     },
     "output_type": "display_data"
    }
   ],
   "source": [
    "from scipy.stats import sem\n",
    "\n",
    "plt.figure(figsize=(2, 3))\n",
    "plt.errorbar(1,np.mean(allres[:,3,0]), yerr=sem(allres[:,3,0]), color=\"red\", marker='o', elinewidth=2, capsize=4, markeredgewidth=2)\n",
    "plt.errorbar(2,np.mean(allres[:,3,1]), yerr=sem(allres[:,3,1]), marker='o', elinewidth=2, capsize=4, markeredgewidth=2)\n",
    "plt.errorbar(3,np.mean(allres[:,3,2]), yerr=sem(allres[:,3,2]), color=\"black\", marker='o', elinewidth=2, capsize=4, markeredgewidth=2)\n",
    "plt.title(\"Figure 4a: MSE\")\n",
    "plt.xticks(ticks=(1,2,3),labels=(\"SSIM\",\"FRC\",\"both\"))\n",
    "plt.xlim((0.5,3.5))\n",
    "plt.show()"
   ]
  },
  {
   "cell_type": "markdown",
   "id": "ddc2284c",
   "metadata": {},
   "source": [
    "Plot mean$\\pm$SE of FRC loss for all three loss functions:"
   ]
  },
  {
   "cell_type": "code",
   "execution_count": 20,
   "id": "9cb5f520",
   "metadata": {},
   "outputs": [
    {
     "data": {
      "image/png": "[encoded data removed]",
      "text/plain": [
       "<Figure size 144x216 with 1 Axes>"
      ]
     },
     "metadata": {
      "needs_background": "light"
     },
     "output_type": "display_data"
    }
   ],
   "source": [
    "from scipy.stats import sem\n",
    "\n",
    "plt.figure(figsize=(2, 3))\n",
    "plt.errorbar(1,np.mean(allres[:,5,0]), yerr=sem(allres[:,5,0]), color=\"red\", marker='o', elinewidth=2, capsize=4, markeredgewidth=2)\n",
    "plt.errorbar(2,np.mean(allres[:,5,1]), yerr=sem(allres[:,5,1]), marker='o', elinewidth=2, capsize=4, markeredgewidth=2)\n",
    "plt.errorbar(3,np.mean(allres[:,5,2]), yerr=sem(allres[:,5,2]), color=\"black\", marker='o', elinewidth=2, capsize=4, markeredgewidth=2)\n",
    "plt.title(\"Figure 4a: FRC\")\n",
    "plt.xticks(ticks=(1,2,3),labels=(\"SSIM\",\"FRC\",\"both\"))\n",
    "plt.xlim((0.5,3.5))\n",
    "plt.show()"
   ]
  },
  {
   "cell_type": "markdown",
   "id": "4afc6087",
   "metadata": {},
   "source": [
    "Plot mean$\\pm$SE of 1/PSNR for all three loss functions:"
   ]
  },
  {
   "cell_type": "code",
   "execution_count": 21,
   "id": "b82f4a14",
   "metadata": {},
   "outputs": [
    {
     "data": {
      "image/png": "[encoded data removed]",
      "text/plain": [
       "<Figure size 144x216 with 1 Axes>"
      ]
     },
     "metadata": {
      "needs_background": "light"
     },
     "output_type": "display_data"
    }
   ],
   "source": [
    "from scipy.stats import sem\n",
    "\n",
    "plt.figure(figsize=(2, 3))\n",
    "plt.errorbar(1,np.mean(allres[:,6,0]), yerr=sem(allres[:,6,0]), color=\"red\", marker='o', elinewidth=2, capsize=4, markeredgewidth=2)\n",
    "plt.errorbar(2,np.mean(allres[:,6,1]), yerr=sem(allres[:,6,1]), marker='o', elinewidth=2, capsize=4, markeredgewidth=2)\n",
    "plt.errorbar(3,np.mean(allres[:,6,2]), yerr=sem(allres[:,6,2]), color=\"black\", marker='o', elinewidth=2, capsize=4, markeredgewidth=2)\n",
    "plt.title(\"Figure 4a: PSNR\")\n",
    "plt.xticks(ticks=(1,2,3),labels=(\"SSIM\",\"FRC\",\"both\"))\n",
    "plt.xlim((0.5,3.5))\n",
    "plt.show()"
   ]
  },
  {
   "cell_type": "markdown",
   "id": "5bf485f0",
   "metadata": {},
   "source": [
    "Plot mean$\\pm$SE of SSIM loss for all three loss functions:"
   ]
  },
  {
   "cell_type": "code",
   "execution_count": 22,
   "id": "98a0725a",
   "metadata": {},
   "outputs": [
    {
     "data": {
      "image/png": "[encoded data removed]",
      "text/plain": [
       "<Figure size 144x216 with 1 Axes>"
      ]
     },
     "metadata": {
      "needs_background": "light"
     },
     "output_type": "display_data"
    }
   ],
   "source": [
    "from scipy.stats import sem\n",
    "\n",
    "plt.figure(figsize=(2, 3))\n",
    "plt.errorbar(1,np.mean(allres[:,4,0]), yerr=sem(allres[:,4,0]), color=\"red\", marker='o', elinewidth=2, capsize=4, markeredgewidth=2)\n",
    "plt.errorbar(2,np.mean(allres[:,4,1]), yerr=sem(allres[:,4,1]), marker='o', elinewidth=2, capsize=4, markeredgewidth=2)\n",
    "plt.errorbar(3,np.mean(allres[:,4,2]), yerr=sem(allres[:,4,2]), color=\"black\", marker='o', elinewidth=2, capsize=4, markeredgewidth=2)\n",
    "plt.title(\"Figure 4a: SSIM\")\n",
    "plt.xticks(ticks=(1,2,3),labels=(\"SSIM\",\"FRC\",\"both\"))\n",
    "plt.xlim((0.5,3.5))\n",
    "plt.show()"
   ]
  },
  {
   "cell_type": "code",
   "execution_count": null,
   "id": "1ebf1be8",
   "metadata": {},
   "outputs": [],
   "source": []
  }
 ],
 "metadata": {
  "kernelspec": {
   "display_name": "Python 3",
   "language": "python",
   "name": "python3"
  },
  "language_info": {
   "codemirror_mode": {
    "name": "ipython",
    "version": 3
   },
   "file_extension": ".py",
   "mimetype": "text/x-python",
   "name": "python",
   "nbconvert_exporter": "python",
   "pygments_lexer": "ipython3",
   "version": "3.9.5"
  }
 },
 "nbformat": 4,
 "nbformat_minor": 5
}
